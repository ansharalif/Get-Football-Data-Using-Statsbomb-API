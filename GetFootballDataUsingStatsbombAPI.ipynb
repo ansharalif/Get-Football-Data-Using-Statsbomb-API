{
 "cells": [
  {
   "cell_type": "code",
   "execution_count": null,
   "id": "4e7d3752",
   "metadata": {},
   "outputs": [],
   "source": [
    "from statsbombpy import sb\n",
    "import pandas as pd"
   ]
  },
  {
   "cell_type": "code",
   "execution_count": null,
   "id": "52e181d8",
   "metadata": {
    "scrolled": false
   },
   "outputs": [],
   "source": [
    "#Showing the competitions that available from the API\n",
    "sb.competitions()"
   ]
  },
  {
   "cell_type": "code",
   "execution_count": null,
   "id": "e265eaf2",
   "metadata": {
    "scrolled": false
   },
   "outputs": [],
   "source": [
    "#Selecting the competition that we want to get the data\n",
    "#Here for example selecting Euro 2020\n",
    "sb.matches(competition_id = 55, season_id = 43 )"
   ]
  },
  {
   "cell_type": "code",
   "execution_count": null,
   "id": "d279be8a",
   "metadata": {},
   "outputs": [],
   "source": [
    "#Selecting the match that we want to get data based on match id\n",
    "events = sb.events(match_id = 3794686)"
   ]
  },
  {
   "cell_type": "code",
   "execution_count": null,
   "id": "170ee878",
   "metadata": {
    "scrolled": true
   },
   "outputs": [],
   "source": [
    "events.head()"
   ]
  },
  {
   "cell_type": "code",
   "execution_count": null,
   "id": "25d502b6",
   "metadata": {
    "scrolled": true
   },
   "outputs": [],
   "source": [
    "#Showing all columns that available\n",
    "events.columns"
   ]
  },
  {
   "cell_type": "code",
   "execution_count": null,
   "id": "28d34604",
   "metadata": {},
   "outputs": [],
   "source": [
    "#Showing only the columns that we want/need\n",
    "events = events[[\"team\",\"shot_statsbomb_xg\", \"shot_type\", \"shot_outcome\", \"player\", \"minute\"]].reset_index()"
   ]
  },
  {
   "cell_type": "code",
   "execution_count": null,
   "id": "65d89f41",
   "metadata": {
    "scrolled": false
   },
   "outputs": [],
   "source": [
    "events"
   ]
  },
  {
   "cell_type": "code",
   "execution_count": null,
   "id": "44891d2f",
   "metadata": {},
   "outputs": [],
   "source": [
    "#Cleaning or showing only the dataframe by removing the NaN value so we can see the data that we want\n",
    "events = events[events['shot_type'].notna()]"
   ]
  },
  {
   "cell_type": "code",
   "execution_count": null,
   "id": "fcf7a76e",
   "metadata": {
    "scrolled": true
   },
   "outputs": [],
   "source": [
    "events"
   ]
  },
  {
   "cell_type": "code",
   "execution_count": null,
   "id": "122fdd4d",
   "metadata": {},
   "outputs": [],
   "source": [
    "events.drop('index', inplace=True, axis=1)"
   ]
  },
  {
   "cell_type": "code",
   "execution_count": null,
   "id": "78c8a957",
   "metadata": {
    "scrolled": true
   },
   "outputs": [],
   "source": [
    "events"
   ]
  },
  {
   "cell_type": "code",
   "execution_count": null,
   "id": "b7fcfb0e",
   "metadata": {},
   "outputs": [],
   "source": [
    "events.index.name='index'"
   ]
  },
  {
   "cell_type": "code",
   "execution_count": null,
   "id": "a730f27b",
   "metadata": {},
   "outputs": [],
   "source": [
    "events"
   ]
  },
  {
   "cell_type": "code",
   "execution_count": null,
   "id": "40c53f07",
   "metadata": {},
   "outputs": [],
   "source": [
    "events.index.name = None"
   ]
  },
  {
   "cell_type": "code",
   "execution_count": null,
   "id": "6ee3955c",
   "metadata": {},
   "outputs": [],
   "source": [
    "events"
   ]
  },
  {
   "cell_type": "code",
   "execution_count": null,
   "id": "3bdc05d1",
   "metadata": {},
   "outputs": [],
   "source": [
    "#Exporting the data into csv\n",
    "#Change the directory location to your's\n",
    "events.to_csv(r'C:\\Users\\TOSHIBA\\Get Football Data Using Statsbomb API\\Euro2020_CroatiaVsSpain_Data.csv', index=False)"
   ]
  }
 ],
 "metadata": {
  "kernelspec": {
   "display_name": "Python 3 (ipykernel)",
   "language": "python",
   "name": "python3"
  },
  "language_info": {
   "codemirror_mode": {
    "name": "ipython",
    "version": 3
   },
   "file_extension": ".py",
   "mimetype": "text/x-python",
   "name": "python",
   "nbconvert_exporter": "python",
   "pygments_lexer": "ipython3",
   "version": "3.9.12"
  }
 },
 "nbformat": 4,
 "nbformat_minor": 5
}
